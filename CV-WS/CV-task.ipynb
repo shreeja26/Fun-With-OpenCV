{
 "cells": [
  {
   "cell_type": "code",
   "execution_count": 322,
   "metadata": {},
   "outputs": [],
   "source": [
    "import cv2"
   ]
  },
  {
   "cell_type": "code",
   "execution_count": 323,
   "metadata": {},
   "outputs": [],
   "source": [
    "import numpy as np"
   ]
  },
  {
   "cell_type": "markdown",
   "metadata": {},
   "source": [
    "# TASK: 1 (To Create Your Own Image)"
   ]
  },
  {
   "cell_type": "code",
   "execution_count": 324,
   "metadata": {},
   "outputs": [],
   "source": [
    "canvas = np.zeros((600,600,3))"
   ]
  },
  {
   "cell_type": "code",
   "execution_count": 325,
   "metadata": {},
   "outputs": [],
   "source": [
    "font = cv2.FONT_HERSHEY_SIMPLEX\n",
    "canvas = cv2.putText(canvas, \"HEY,I'M TOM\", (50, 50),\n",
    "            font, 0.8, (0, 255, 0), 2, cv2.LINE_AA)\n",
    "  "
   ]
  },
  {
   "cell_type": "markdown",
   "metadata": {},
   "source": [
    "# Here I have created my first image..."
   ]
  },
  {
   "cell_type": "code",
   "execution_count": 326,
   "metadata": {},
   "outputs": [],
   "source": [
    "\n",
    "canvas = cv2.line(canvas, (200,100), (300,200), (0,255,0), (10))\n",
    "canvas = cv2.line(canvas, (400,100), (300,200), (0,255,0), (10))\n",
    "canvas = cv2.line(canvas, (330,490), (120,250), (0,255,0), (10))\n",
    "canvas = cv2.line(canvas, (350,465), (490,250), (0,255,0), (10))\n",
    "canvas = cv2.circle(canvas, (300,200), 70, (0,0,255), (-1))\n",
    "canvas = cv2.circle(canvas, (120,240), 24, (255,0,0), (-1))\n",
    "canvas = cv2.circle(canvas, (495,240), 24, (255,0,0), (-1)) \n",
    "canvas = cv2.circle(canvas, (270,175), 10, (0,0,0), (-1))\n",
    "canvas = cv2.circle(canvas, (324,175), 10, (0,0,0), (-1))\n",
    "canvas = cv2.circle(canvas, (300,220), 15, (0,0,0), (-1))\n",
    "canvas = cv2.circle(canvas, (310,400), 133, (0,0,255), (-1))"
   ]
  },
  {
   "cell_type": "code",
   "execution_count": 327,
   "metadata": {},
   "outputs": [],
   "source": [
    "cv2.imshow('hi', canvas)\n",
    "cv2.waitKey()\n",
    "cv2.destroyAllWindows()"
   ]
  },
  {
   "cell_type": "markdown",
   "metadata": {},
   "source": [
    "# Now I have created my second image.."
   ]
  },
  {
   "cell_type": "code",
   "execution_count": 328,
   "metadata": {},
   "outputs": [],
   "source": [
    "canvas2 = np.zeros((600,600,3))"
   ]
  },
  {
   "cell_type": "code",
   "execution_count": 329,
   "metadata": {},
   "outputs": [],
   "source": [
    "font = cv2.FONT_HERSHEY_SIMPLEX\n",
    "canvas2 = cv2.putText(canvas2, \"HEY,I'M TOM\", (50, 50),\n",
    "            font, 0.8, (0, 255, 0), 2, cv2.LINE_AA)\n",
    "canvas2 = cv2.line(canvas2, (200,100), (300,200), (0,255,0), (10))\n",
    "canvas2 = cv2.line(canvas2, (400,100), (300,200), (0,255,0), (10))\n",
    "canvas2 = cv2.line(canvas2, (340,280), (78,490), (0,255,0), (10))\n",
    "canvas2 = cv2.line(canvas2, (300,280), (530,480), (0,255,0), (10))\n",
    "canvas2 = cv2.circle(canvas2, (300,200), 70, (0,0,255), (-1))\n",
    "canvas2 = cv2.circle(canvas2, (90,480), 24, (255,0,0), (-1))\n",
    "\n",
    "canvas2 = cv2.circle(canvas2, (538,490), 24, (255,0,0), (-1))\n",
    "canvas2 = cv2.circle(canvas2, (270,175), 10, (0,0,0), (-1))\n",
    "canvas2 = cv2.circle(canvas2, (324,175), 10, (0,0,0), (-1))\n",
    "canvas2 = cv2.circle(canvas2, (300,220), 15, (0,0,0), (-1))\n",
    "canvas2 = cv2.circle(canvas2, (310,400), 133, (0,0,255), (-1))"
   ]
  },
  {
   "cell_type": "code",
   "execution_count": 330,
   "metadata": {},
   "outputs": [],
   "source": [
    "cv2.imshow('hi', canvas2)\n",
    "cv2.waitKey()\n",
    "cv2.destroyAllWindows()"
   ]
  },
  {
   "cell_type": "markdown",
   "metadata": {},
   "source": [
    "# Now You will see something interesting..\n",
    "### Actually I have displayed both the images in the continuous loop using some conditions so that we can have small gif kind of a thing..You can go through the code below"
   ]
  },
  {
   "cell_type": "code",
   "execution_count": 331,
   "metadata": {},
   "outputs": [],
   "source": [
    "import time\n",
    "i=1\n",
    "while True:\n",
    "    if(i%2==0):\n",
    "        cv2.imshow(\"cat\",canvas)\n",
    "    else:\n",
    "        cv2.imshow(\"cat\",canvas2)\n",
    "    if cv2.waitKey(10) == 13:\n",
    "        break\n",
    "    i=i+1\n",
    "    time.sleep(0.5)\n",
    "cv2.destroyAllWindows()\n",
    "\n"
   ]
  },
  {
   "cell_type": "markdown",
   "metadata": {},
   "source": [
    "# TASK: 2 (To Swap Face Of Persons In The Image"
   ]
  },
  {
   "cell_type": "code",
   "execution_count": 332,
   "metadata": {},
   "outputs": [],
   "source": [
    "import cv2"
   ]
  },
  {
   "cell_type": "markdown",
   "metadata": {},
   "source": [
    "## First Image"
   ]
  },
  {
   "cell_type": "code",
   "execution_count": 333,
   "metadata": {},
   "outputs": [],
   "source": [
    "photo1 = cv2.imread('image-1.jpeg')\n",
    "cv2.imshow('hi',photo1)\n",
    "cv2.waitKey()\n",
    "cv2.destroyAllWindows()"
   ]
  },
  {
   "cell_type": "code",
   "execution_count": 334,
   "metadata": {},
   "outputs": [],
   "source": [
    "model = cv2.CascadeClassifier('haarcascade_frontalface_default.xml')"
   ]
  },
  {
   "cell_type": "markdown",
   "metadata": {},
   "source": [
    "## cropped face of first image"
   ]
  },
  {
   "cell_type": "code",
   "execution_count": 335,
   "metadata": {},
   "outputs": [],
   "source": [
    "faces = model.detectMultiScale(photo1)\n",
    "crop = photo1[95:95+167, 246:246+164]\n",
    "cv2.imshow('crop',crop)\n",
    "cv2.waitKey()\n",
    "cv2.destroyAllWindows()"
   ]
  },
  {
   "cell_type": "markdown",
   "metadata": {},
   "source": [
    "## Second Image"
   ]
  },
  {
   "cell_type": "code",
   "execution_count": 336,
   "metadata": {},
   "outputs": [],
   "source": [
    "photo2 = cv2.imread('image-2.jpg')\n",
    "cv2.imshow('swap',photo2)\n",
    "cv2.waitKey()\n",
    "cv2.destroyAllWindows()\n"
   ]
  },
  {
   "cell_type": "markdown",
   "metadata": {},
   "source": [
    "## cropped face of second image"
   ]
  },
  {
   "cell_type": "code",
   "execution_count": 337,
   "metadata": {},
   "outputs": [],
   "source": [
    "face = model.detectMultiScale(photo2)\n",
    "crop2 = photo2[81:81+164, 118:118+164]\n",
    "cv2.imshow('crop',crop2)\n",
    "cv2.waitKey()\n",
    "cv2.destroyAllWindows()"
   ]
  },
  {
   "cell_type": "markdown",
   "metadata": {},
   "source": [
    "## Face swapped"
   ]
  },
  {
   "cell_type": "code",
   "execution_count": 338,
   "metadata": {},
   "outputs": [],
   "source": [
    "photo1 = cv2.imread('image-1.jpeg')\n",
    "photo1[95:95+164, 246:246+164] = crop2\n",
    "cv2.imshow('swap', photo1)\n",
    "cv2.waitKey()\n",
    "cv2.destroyAllWindows()"
   ]
  },
  {
   "cell_type": "code",
   "execution_count": 339,
   "metadata": {},
   "outputs": [],
   "source": [
    "photo2 = cv2.imread('image-2.jpg')\n",
    "photo2[81:81+167, 118:118+164] = crop\n",
    "cv2.imshow('swap', photo2)\n",
    "cv2.waitKey()\n",
    "cv2.destroyAllWindows()"
   ]
  },
  {
   "cell_type": "markdown",
   "metadata": {},
   "source": [
    "# Task: 3 ( To Display Multiple Images In One Frame"
   ]
  },
  {
   "cell_type": "code",
   "execution_count": 340,
   "metadata": {},
   "outputs": [],
   "source": [
    "pic1 = cv2.imread('parrot.jpg')\n",
    "pic2 = cv2.cvtColor(pic1,cv2.COLOR_BGR2GRAY)\n",
    "grey = cv2.cvtColor(pic2, cv2.COLOR_GRAY2BGR)\n",
    "import numpy as np\n",
    "horizontal = np.concatenate((pic1,grey), axis=1)"
   ]
  },
  {
   "cell_type": "code",
   "execution_count": 341,
   "metadata": {},
   "outputs": [],
   "source": [
    "cv2.imshow('HORIZONTAL', horizontal)\n",
    "#cv2.imshow('VERTICAL', Verti) \n",
    "cv2.waitKey(0)\n",
    "cv2.destroyAllWindows()"
   ]
  },
  {
   "cell_type": "code",
   "execution_count": 342,
   "metadata": {},
   "outputs": [],
   "source": [
    "pic1 = cv2.imread('parrot.jpg')\n",
    "pic2 = cv2.cvtColor(pic1,cv2.COLOR_BGR2GRAY)\n",
    "grey = cv2.cvtColor(pic2, cv2.COLOR_GRAY2BGR)\n",
    "import numpy as np\n",
    "Vertical= np.concatenate((pic1,grey), axis=0)\n",
    "cv2.imshow('VERTICAL', Vertical) \n",
    "cv2.waitKey(0)\n",
    "cv2.destroyAllWindows()"
   ]
  },
  {
   "cell_type": "markdown",
   "metadata": {},
   "source": [
    "# All Tasks Accomplished....Thank You"
   ]
  },
  {
   "cell_type": "code",
   "execution_count": null,
   "metadata": {},
   "outputs": [],
   "source": []
  }
 ],
 "metadata": {
  "kernelspec": {
   "display_name": "Python 3",
   "language": "python",
   "name": "python3"
  },
  "language_info": {
   "codemirror_mode": {
    "name": "ipython",
    "version": 3
   },
   "file_extension": ".py",
   "mimetype": "text/x-python",
   "name": "python",
   "nbconvert_exporter": "python",
   "pygments_lexer": "ipython3",
   "version": "3.8.5"
  }
 },
 "nbformat": 4,
 "nbformat_minor": 4
}
